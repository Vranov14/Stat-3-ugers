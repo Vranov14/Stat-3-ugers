{
 "cells": [
  {
   "cell_type": "code",
   "execution_count": 1,
   "id": "11ce5975",
   "metadata": {},
   "outputs": [
    {
     "name": "stdout",
     "output_type": "stream",
     "text": [
      "Collecting pyarrow\n",
      "  Downloading pyarrow-12.0.0-cp310-cp310-win_amd64.whl (21.5 MB)\n",
      "     ---------------------------------------- 21.5/21.5 MB 9.8 MB/s eta 0:00:00\n",
      "Requirement already satisfied: numpy>=1.16.6 in c:\\users\\tvs7\\anaconda3\\lib\\site-packages (from pyarrow) (1.23.5)\n",
      "Installing collected packages: pyarrow\n",
      "Successfully installed pyarrow-12.0.0\n"
     ]
    }
   ],
   "source": [
    "!pip install pyarrow"
   ]
  },
  {
   "cell_type": "code",
   "execution_count": 2,
   "id": "09892139",
   "metadata": {},
   "outputs": [
    {
     "name": "stdout",
     "output_type": "stream",
     "text": [
      "Collecting fastparquet\n",
      "  Downloading fastparquet-2023.4.0-cp310-cp310-win_amd64.whl (618 kB)\n",
      "     -------------------------------------- 618.0/618.0 kB 6.5 MB/s eta 0:00:00\n",
      "Requirement already satisfied: packaging in c:\\users\\tvs7\\anaconda3\\lib\\site-packages (from fastparquet) (22.0)\n",
      "Collecting cramjam>=2.3\n",
      "  Downloading cramjam-2.6.2-cp310-none-win_amd64.whl (1.2 MB)\n",
      "     ---------------------------------------- 1.2/1.2 MB 7.9 MB/s eta 0:00:00\n",
      "Requirement already satisfied: pandas>=1.5.0 in c:\\users\\tvs7\\anaconda3\\lib\\site-packages (from fastparquet) (1.5.3)\n",
      "Requirement already satisfied: fsspec in c:\\users\\tvs7\\anaconda3\\lib\\site-packages (from fastparquet) (2022.11.0)\n",
      "Requirement already satisfied: numpy>=1.20.3 in c:\\users\\tvs7\\anaconda3\\lib\\site-packages (from fastparquet) (1.23.5)\n",
      "Requirement already satisfied: pytz>=2020.1 in c:\\users\\tvs7\\anaconda3\\lib\\site-packages (from pandas>=1.5.0->fastparquet) (2022.7)\n",
      "Requirement already satisfied: python-dateutil>=2.8.1 in c:\\users\\tvs7\\anaconda3\\lib\\site-packages (from pandas>=1.5.0->fastparquet) (2.8.2)\n",
      "Requirement already satisfied: six>=1.5 in c:\\users\\tvs7\\anaconda3\\lib\\site-packages (from python-dateutil>=2.8.1->pandas>=1.5.0->fastparquet) (1.16.0)\n",
      "Installing collected packages: cramjam, fastparquet\n",
      "Successfully installed cramjam-2.6.2 fastparquet-2023.4.0\n"
     ]
    }
   ],
   "source": [
    "!pip install fastparquet"
   ]
  },
  {
   "cell_type": "code",
   "execution_count": null,
   "id": "ca0fb01e",
   "metadata": {},
   "outputs": [],
   "source": []
  }
 ],
 "metadata": {
  "kernelspec": {
   "display_name": "Python 3 (ipykernel)",
   "language": "python",
   "name": "python3"
  },
  "language_info": {
   "codemirror_mode": {
    "name": "ipython",
    "version": 3
   },
   "file_extension": ".py",
   "mimetype": "text/x-python",
   "name": "python",
   "nbconvert_exporter": "python",
   "pygments_lexer": "ipython3",
   "version": "3.10.9"
  }
 },
 "nbformat": 4,
 "nbformat_minor": 5
}
